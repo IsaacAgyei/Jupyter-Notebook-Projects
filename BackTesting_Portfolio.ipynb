{
 "cells": [
  {
   "cell_type": "markdown",
   "metadata": {},
   "source": [
    "# Backtesting Investment Portfolio\n",
    "\n",
    "By: Isaac Agyei"
   ]
  },
  {
   "cell_type": "code",
   "execution_count": 1,
   "metadata": {},
   "outputs": [],
   "source": [
    "import pandas as pd\n",
    "import numpy as np\n",
    "import pandas_datareader.data as web\n",
    "import matplotlib.pyplot as plt\n",
    "import datetime as dt\n",
    "import matplotlib.style as style"
   ]
  },
  {
   "attachments": {},
   "cell_type": "markdown",
   "metadata": {},
   "source": [
    "# Capturing Historical Stock Market Data\n",
    "\n",
    "For simplicity I’ll back test the portfolio by comparing the opening and closing prices of stocks within a specified date range. I’ve captured the stock market data using the pandas-datareader module."
   ]
  },
  {
   "cell_type": "code",
   "execution_count": 3,
   "metadata": {},
   "outputs": [
    {
     "data": {
      "text/plain": [
       "[[86.12999725341797, 149.6199951171875],\n",
       " [170.16000366210938, 263.19000244140625],\n",
       " [254.2899932861328, 101.22000122070312],\n",
       " [99.30000305175781, 119.12999725341797],\n",
       " [177.67999267578125, 197.50999450683594],\n",
       " [1048.3399658203125, 1303.050048828125],\n",
       " [105.81999969482422, 83.4800033569336],\n",
       " [62.849998474121094, 93.05000305175781]]"
      ]
     },
     "execution_count": 3,
     "metadata": {},
     "output_type": "execute_result"
    }
   ],
   "source": [
    "# I'll use the global variables in this cell to create a dataframe\n",
    "start = dt.date(2018,1,1)\n",
    "end = dt.date.today()\n",
    "list_prices = []\n",
    "company_tickers = []\n",
    "\n",
    "# Using *args will allow me to select a wide range of companies to backtest\n",
    "def data_collector(*args):\n",
    "\n",
    "    for item in args:\n",
    "\n",
    "        prices = web.DataReader(item,'yahoo',start,end)\n",
    "        company_tickers.append(item)\n",
    "\n",
    "        start_prices = pd.DataFrame(prices).iloc[0,2]\n",
    "        close_prices = pd.DataFrame(prices).iloc[-1,3]\n",
    "        list_prices.append([start_prices,close_prices])\n",
    "    \n",
    "    return list_prices\n",
    "\n",
    "    \n",
    "data_collector('MSFT','AAPL','ADS','WMT','FB','GOOG','PM','NKE')\n"
   ]
  },
  {
   "cell_type": "markdown",
   "metadata": {},
   "source": [
    "# Creating a DataFrame"
   ]
  },
  {
   "cell_type": "code",
   "execution_count": 4,
   "metadata": {},
   "outputs": [
    {
     "data": {
      "text/html": [
       "<div>\n",
       "<style scoped>\n",
       "    .dataframe tbody tr th:only-of-type {\n",
       "        vertical-align: middle;\n",
       "    }\n",
       "\n",
       "    .dataframe tbody tr th {\n",
       "        vertical-align: top;\n",
       "    }\n",
       "\n",
       "    .dataframe thead th {\n",
       "        text-align: right;\n",
       "    }\n",
       "</style>\n",
       "<table border=\"1\" class=\"dataframe\">\n",
       "  <thead>\n",
       "    <tr style=\"text-align: right;\">\n",
       "      <th></th>\n",
       "      <th>2018-01-01</th>\n",
       "      <th>2019-11-20</th>\n",
       "    </tr>\n",
       "  </thead>\n",
       "  <tbody>\n",
       "    <tr>\n",
       "      <th>MSFT</th>\n",
       "      <td>86.129997</td>\n",
       "      <td>149.619995</td>\n",
       "    </tr>\n",
       "    <tr>\n",
       "      <th>AAPL</th>\n",
       "      <td>170.160004</td>\n",
       "      <td>263.190002</td>\n",
       "    </tr>\n",
       "    <tr>\n",
       "      <th>ADS</th>\n",
       "      <td>254.289993</td>\n",
       "      <td>101.220001</td>\n",
       "    </tr>\n",
       "    <tr>\n",
       "      <th>WMT</th>\n",
       "      <td>99.300003</td>\n",
       "      <td>119.129997</td>\n",
       "    </tr>\n",
       "    <tr>\n",
       "      <th>FB</th>\n",
       "      <td>177.679993</td>\n",
       "      <td>197.509995</td>\n",
       "    </tr>\n",
       "    <tr>\n",
       "      <th>GOOG</th>\n",
       "      <td>1048.339966</td>\n",
       "      <td>1303.050049</td>\n",
       "    </tr>\n",
       "    <tr>\n",
       "      <th>PM</th>\n",
       "      <td>105.820000</td>\n",
       "      <td>83.480003</td>\n",
       "    </tr>\n",
       "    <tr>\n",
       "      <th>NKE</th>\n",
       "      <td>62.849998</td>\n",
       "      <td>93.050003</td>\n",
       "    </tr>\n",
       "  </tbody>\n",
       "</table>\n",
       "</div>"
      ],
      "text/plain": [
       "       2018-01-01   2019-11-20\n",
       "MSFT    86.129997   149.619995\n",
       "AAPL   170.160004   263.190002\n",
       "ADS    254.289993   101.220001\n",
       "WMT     99.300003   119.129997\n",
       "FB     177.679993   197.509995\n",
       "GOOG  1048.339966  1303.050049\n",
       "PM     105.820000    83.480003\n",
       "NKE     62.849998    93.050003"
      ]
     },
     "execution_count": 4,
     "metadata": {},
     "output_type": "execute_result"
    }
   ],
   "source": [
    "portfolio_df = pd.DataFrame(np.array(list_prices),\n",
    "                            index=company_tickers,\n",
    "                            columns=[start,end])\n",
    "                      \n",
    "portfolio_df"
   ]
  },
  {
   "attachments": {},
   "cell_type": "markdown",
   "metadata": {},
   "source": [
    "# Allocating Percentages to Each Asset\n",
    "The function prcnt_per_investment allows me to allocate percentages of my portfolio to each asset and set the dollar value of my initial investment."
   ]
  },
  {
   "cell_type": "code",
   "execution_count": 5,
   "metadata": {},
   "outputs": [
    {
     "name": "stdout",
     "output_type": "stream",
     "text": [
      "Percent allocated to MSFT: 10\n",
      "Number of assets left: 7\n",
      "Percent remaining: 90% \n",
      "\n",
      "Percent allocated to AAPL: 15\n",
      "Number of assets left: 6\n",
      "Percent remaining: 75% \n",
      "\n",
      "Percent allocated to ADS: 12\n",
      "Number of assets left: 5\n",
      "Percent remaining: 63% \n",
      "\n",
      "Percent allocated to WMT: 33\n",
      "Number of assets left: 4\n",
      "Percent remaining: 30% \n",
      "\n",
      "Percent allocated to FB: 8\n",
      "Number of assets left: 3\n",
      "Percent remaining: 22% \n",
      "\n",
      "Percent allocated to GOOG: 5\n",
      "Number of assets left: 2\n",
      "Percent remaining: 17% \n",
      "\n",
      "Percent allocated to PM: 10\n",
      "Number of assets left: 1\n",
      "Percent remaining: 7% \n",
      "\n",
      "Percent allocated to NKE: 7\n",
      "Number of assets left: 0\n",
      "Percent remaining: 0% \n",
      "\n"
     ]
    }
   ],
   "source": [
    "allocation_spread = []\n",
    "number_of_investments = len(portfolio_df.index)\n",
    "\n",
    "def prcnt_per_asset(initial_investment: int):\n",
    "    \n",
    "    prcnt = 100\n",
    "    num_invts = 0\n",
    "    portfolio_df['Investment'] = initial_investment\n",
    "\n",
    "    while prcnt <= 100:\n",
    "        \n",
    "        prcnt_distr = int(input(f'Percent allocated to {portfolio_df.index.values[num_invts]}: '))\n",
    "        \n",
    "        if prcnt_distr < 0:\n",
    "            print('You cannot allocate a negative percentage','\\n')\n",
    "        elif prcnt_distr > 100:\n",
    "            print('You cannot allocate a percentage > 100 to any investment','\\n')\n",
    "        elif type(prcnt_distr) != int:\n",
    "            print('You percent must be an integer')\n",
    "\n",
    "        if prcnt_distr >= 0 and prcnt_distr <= 100:\n",
    "            allocation_spread.append(prcnt_distr)\n",
    "            prcnt -= prcnt_distr\n",
    "            num_invts +=1\n",
    "            print(f'Number of assets left: {number_of_investments-num_invts}')\n",
    "            print(f'Percent remaining: {prcnt}%','\\n')\n",
    "            \n",
    "            if prcnt < 0:\n",
    "                allocation_spread.pop()\n",
    "                prcnt += prcnt_distr\n",
    "                num_invts -=1\n",
    "                print(f\"You've allocated more percentage to {portfolio_df.index.values[num_invts]} than is avaiable\")\n",
    "                print(f'Number of assets left: {number_of_investments-num_invts}')\n",
    "                print(f'Percent remaining: {prcnt}%','\\n')\n",
    "\n",
    "        if num_invts == number_of_investments and prcnt >= 0:\n",
    "            break\n",
    "        \n",
    "prcnt_per_asset(10_000)"
   ]
  },
  {
   "attachments": {},
   "cell_type": "markdown",
   "metadata": {},
   "source": [
    "# Adding New Columns to the Portfolio Dataframe\n",
    "The values in the column “Buying_Price” of the newly constructed dataframe have been rounded to the nearest whole number. For this reason, our initial investment is perfectly allocated to each asset. Realistically your initial investment wouldn’t be 100% allocated because you can’t purchase fractions of stocks (which I did in this example)."
   ]
  },
  {
   "cell_type": "code",
   "execution_count": 6,
   "metadata": {},
   "outputs": [
    {
     "data": {
      "text/html": [
       "<div>\n",
       "<style scoped>\n",
       "    .dataframe tbody tr th:only-of-type {\n",
       "        vertical-align: middle;\n",
       "    }\n",
       "\n",
       "    .dataframe tbody tr th {\n",
       "        vertical-align: top;\n",
       "    }\n",
       "\n",
       "    .dataframe thead th {\n",
       "        text-align: right;\n",
       "    }\n",
       "</style>\n",
       "<table border=\"1\" class=\"dataframe\">\n",
       "  <thead>\n",
       "    <tr style=\"text-align: right;\">\n",
       "      <th></th>\n",
       "      <th></th>\n",
       "      <th>2018-01-01</th>\n",
       "      <th>2019-11-20</th>\n",
       "      <th>Percent_Allocation</th>\n",
       "      <th>Buying_Price</th>\n",
       "      <th>Selling_Price</th>\n",
       "    </tr>\n",
       "    <tr>\n",
       "      <th>Investment</th>\n",
       "      <th></th>\n",
       "      <th></th>\n",
       "      <th></th>\n",
       "      <th></th>\n",
       "      <th></th>\n",
       "      <th></th>\n",
       "    </tr>\n",
       "  </thead>\n",
       "  <tbody>\n",
       "    <tr>\n",
       "      <th rowspan=\"8\" valign=\"top\">10000</th>\n",
       "      <th>MSFT</th>\n",
       "      <td>86.129997</td>\n",
       "      <td>149.619995</td>\n",
       "      <td>0.10</td>\n",
       "      <td>1000.0</td>\n",
       "      <td>1737.141529</td>\n",
       "    </tr>\n",
       "    <tr>\n",
       "      <th>AAPL</th>\n",
       "      <td>170.160004</td>\n",
       "      <td>263.190002</td>\n",
       "      <td>0.15</td>\n",
       "      <td>1500.0</td>\n",
       "      <td>2320.081072</td>\n",
       "    </tr>\n",
       "    <tr>\n",
       "      <th>ADS</th>\n",
       "      <td>254.289993</td>\n",
       "      <td>101.220001</td>\n",
       "      <td>0.12</td>\n",
       "      <td>1200.0</td>\n",
       "      <td>477.659384</td>\n",
       "    </tr>\n",
       "    <tr>\n",
       "      <th>WMT</th>\n",
       "      <td>99.300003</td>\n",
       "      <td>119.129997</td>\n",
       "      <td>0.33</td>\n",
       "      <td>3300.0</td>\n",
       "      <td>3959.002808</td>\n",
       "    </tr>\n",
       "    <tr>\n",
       "      <th>FB</th>\n",
       "      <td>177.679993</td>\n",
       "      <td>197.509995</td>\n",
       "      <td>0.08</td>\n",
       "      <td>800.0</td>\n",
       "      <td>889.284118</td>\n",
       "    </tr>\n",
       "    <tr>\n",
       "      <th>GOOG</th>\n",
       "      <td>1048.339966</td>\n",
       "      <td>1303.050049</td>\n",
       "      <td>0.05</td>\n",
       "      <td>500.0</td>\n",
       "      <td>621.482578</td>\n",
       "    </tr>\n",
       "    <tr>\n",
       "      <th>PM</th>\n",
       "      <td>105.820000</td>\n",
       "      <td>83.480003</td>\n",
       "      <td>0.10</td>\n",
       "      <td>1000.0</td>\n",
       "      <td>788.886823</td>\n",
       "    </tr>\n",
       "    <tr>\n",
       "      <th>NKE</th>\n",
       "      <td>62.849998</td>\n",
       "      <td>93.050003</td>\n",
       "      <td>0.07</td>\n",
       "      <td>700.0</td>\n",
       "      <td>1036.356463</td>\n",
       "    </tr>\n",
       "  </tbody>\n",
       "</table>\n",
       "</div>"
      ],
      "text/plain": [
       "                  2018-01-01   2019-11-20  Percent_Allocation  Buying_Price  \\\n",
       "Investment                                                                    \n",
       "10000      MSFT    86.129997   149.619995                0.10        1000.0   \n",
       "           AAPL   170.160004   263.190002                0.15        1500.0   \n",
       "           ADS    254.289993   101.220001                0.12        1200.0   \n",
       "           WMT     99.300003   119.129997                0.33        3300.0   \n",
       "           FB     177.679993   197.509995                0.08         800.0   \n",
       "           GOOG  1048.339966  1303.050049                0.05         500.0   \n",
       "           PM     105.820000    83.480003                0.10        1000.0   \n",
       "           NKE     62.849998    93.050003                0.07         700.0   \n",
       "\n",
       "                 Selling_Price  \n",
       "Investment                      \n",
       "10000      MSFT    1737.141529  \n",
       "           AAPL    2320.081072  \n",
       "           ADS      477.659384  \n",
       "           WMT     3959.002808  \n",
       "           FB       889.284118  \n",
       "           GOOG     621.482578  \n",
       "           PM       788.886823  \n",
       "           NKE     1036.356463  "
      ]
     },
     "execution_count": 6,
     "metadata": {},
     "output_type": "execute_result"
    }
   ],
   "source": [
    "portfolio_df['Percent_Allocation'] = np.array(allocation_spread) * 0.01\n",
    "portfolio_df['Mx_Stcks_Purchased'] = np.array(portfolio_df.loc[:,'Investment']) / np.array(portfolio_df.loc[:,start])\n",
    "portfolio_df['Stcks_Prcnt'] = np.array(portfolio_df.loc[:,'Mx_Stcks_Purchased']) * np.array(portfolio_df.loc[:,'Percent_Allocation'])\n",
    "portfolio_df['Buying_Price'] = np.array(portfolio_df.loc[:,'Stcks_Prcnt']) * np.array(portfolio_df.loc[:,start])\n",
    "portfolio_df['Selling_Price'] = np.array(portfolio_df.loc[:,'Stcks_Prcnt']) * np.array(portfolio_df.loc[:,end])\n",
    "portfolio_df.set_index(['Investment',company_tickers], inplace=True)\n",
    "portfolio_df.drop(['Mx_Stcks_Purchased','Stcks_Prcnt'], axis=1, inplace=True)\n",
    "\n",
    "portfolio_df"
   ]
  },
  {
   "attachments": {},
   "cell_type": "markdown",
   "metadata": {},
   "source": [
    "# Calculating The Return on Investment (ROI)"
   ]
  },
  {
   "cell_type": "code",
   "execution_count": 7,
   "metadata": {
    "scrolled": false
   },
   "outputs": [
    {
     "name": "stdout",
     "output_type": "stream",
     "text": [
      "With an initial investment of $10000 your return is approx: $11829.89\n",
      "\n"
     ]
    }
   ],
   "source": [
    "value_bought = np.array(portfolio_df.loc[:,'Buying_Price'])\n",
    "value_sold = np.array(portfolio_df.loc[:,'Selling_Price'])\n",
    "total_port_invested = portfolio_df.index[0][0]\n",
    "total_port_returned = sum(np.array(portfolio_df.loc[:,'Selling_Price']))\n",
    "labels_ax1 = np.array(company_tickers)\n",
    "labels_ax2 = np.array(['Portfolio Balance'])\n",
    "\n",
    "print(f\"With an initial investment of ${total_port_invested} your return is approx: ${round(total_port_returned,2)}\\n\")                        "
   ]
  },
  {
   "cell_type": "markdown",
   "metadata": {},
   "source": [
    "# Plotting ROI per Asset & ROI of the Portfolio"
   ]
  },
  {
   "cell_type": "code",
   "execution_count": 9,
   "metadata": {},
   "outputs": [
    {
     "data": {
      "image/png": "[encoded data removed]",
      "text/plain": [
       "<Figure size 800x1200 with 2 Axes>"
      ]
     },
     "metadata": {},
     "output_type": "display_data"
    }
   ],
   "source": [
    "x1 = np.arange(len(labels_ax1))\n",
    "x2 = np.arange(len(labels_ax2))\n",
    "width = 0.25\n",
    "\n",
    "plt.style.use('classic')\n",
    "fig,(ax1, ax2) = plt.subplots(nrows=2, ncols=1, figsize=(10,15))\n",
    "\n",
    "\n",
    "ax1.bar(x1-0.15, value_bought, width, label='Asset Value (Purchase)', color='gold')\n",
    "ax1.bar(x1+0.15, value_sold, width, label='Asset Value (Sold)', color='blue')\n",
    "\n",
    "ax1.set_ylabel('Price($)',labelpad=30,fontsize=30)\n",
    "ax1.set_title('Return on Investment',fontsize=30)\n",
    "ax1.set_xticks(x1)\n",
    "ax1.set_xticklabels(labels_ax1,color='black')\n",
    "ax1.legend(loc='upper left')\n",
    "\n",
    "\n",
    "ax2.bar(x2-0.03, total_port_invested, width-0.20, label='Initial Investment', color='gold')\n",
    "ax2.bar(x2+0.03, total_port_returned, width-0.20, label='Return On Investment', color='blue')\n",
    "ax2.set_ylabel('Price($)',labelpad=30,fontsize=30)\n",
    "ax2.set_xticks(x2)\n",
    "ax2.set_xticklabels(labels_ax2,fontsize=20)\n",
    "ax2.legend(loc='upper left')\n",
    "\n",
    "fig.tight_layout()\n",
    "\n"
   ]
  }
 ],
 "metadata": {
  "kernelspec": {
   "display_name": "Python 3",
   "language": "python",
   "name": "python3"
  },
  "language_info": {
   "codemirror_mode": {
    "name": "ipython",
    "version": 3
   },
   "file_extension": ".py",
   "mimetype": "text/x-python",
   "name": "python",
   "nbconvert_exporter": "python",
   "pygments_lexer": "ipython3",
   "version": "3.7.3"
  }
 },
 "nbformat": 4,
 "nbformat_minor": 2
}
