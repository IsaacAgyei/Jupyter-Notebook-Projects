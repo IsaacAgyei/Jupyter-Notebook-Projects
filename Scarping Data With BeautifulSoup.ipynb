{
 "cells": [
  {
   "cell_type": "markdown",
   "metadata": {},
   "source": [
    "# Requirements"
   ]
  },
  {
   "cell_type": "code",
   "execution_count": 3,
   "metadata": {},
   "outputs": [],
   "source": [
    "import requests\n",
    "from bs4 import BeautifulSoup as bs\n"
   ]
  },
  {
   "cell_type": "markdown",
   "metadata": {},
   "source": [
    "# Scraping S&P 500 Symbols From https://www.slickcharts.com/sp500"
   ]
  },
  {
   "cell_type": "code",
   "execution_count": 4,
   "metadata": {},
   "outputs": [],
   "source": [
    "source = requests.get('https://www.slickcharts.com/sp500').text\n",
    "soup = bs(source,'lxml')\n",
    "tbody_lst = soup.tbody('a') \n",
    "count = 0\n",
    "sp_500_symbol_lst = []\n",
    "\n",
    "for item in tbody_lst[:]:\n",
    "    count += 1\n",
    "    if (count % 2) == 0:\n",
    "        sp_500_symbol_lst.append(item.text)\n"
   ]
  },
  {
   "cell_type": "code",
   "execution_count": 15,
   "metadata": {},
   "outputs": [
    {
     "name": "stdout",
     "output_type": "stream",
     "text": [
      "MSFT: Is an S&P 500 company\n",
      "AAPL: Is an S&P 500 company\n",
      "TSLA: Is not in S&P 500 or the ticker is incorrect\n",
      "AMZN: Is an S&P 500 company\n"
     ]
    }
   ],
   "source": [
    "def sp_500_company(*args):\n",
    "    \n",
    "    for item in args:\n",
    "        if item.upper() in sp_500_symbol_lst:\n",
    "            print(f'{item}: Is an S&P 500 company')\n",
    "        else:\n",
    "            print(f'{item}: Is not in S&P 500 or the ticker is incorrect')\n",
    "        \n",
    "sp_500_company('MSFT','AAPL','TSLA','AMZN')"
   ]
  }
 ],
 "metadata": {
  "kernelspec": {
   "display_name": "Python 3",
   "language": "python",
   "name": "python3"
  },
  "language_info": {
   "codemirror_mode": {
    "name": "ipython",
    "version": 3
   },
   "file_extension": ".py",
   "mimetype": "text/x-python",
   "name": "python",
   "nbconvert_exporter": "python",
   "pygments_lexer": "ipython3",
   "version": "3.7.3"
  }
 },
 "nbformat": 4,
 "nbformat_minor": 2
}
